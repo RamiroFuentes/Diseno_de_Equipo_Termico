{
 "cells": [
  {
   "cell_type": "markdown",
   "metadata": {},
   "source": [
    "# Diseño de intercambiador de calor de tubo y coraza \n",
    "\n",
    "Jose Ramiro Fuentes Lara"
   ]
  },
  {
   "cell_type": "code",
   "execution_count": 11,
   "metadata": {},
   "outputs": [],
   "source": [
    "import numpy as np"
   ]
  },
  {
   "cell_type": "code",
   "execution_count": 18,
   "metadata": {},
   "outputs": [],
   "source": [
    "## Datos del sistema (Parámetros de inicialización)\n",
    "\"\"\"Para los servicios se utiizará agua y agua de mar \"\"\"\n",
    "\n",
    "# flujo masico del agua \n",
    "m = 100000 \n",
    "\n",
    "# Temperaturas\n",
    "t1 = 25\n",
    "t2 = 40\n",
    "\n",
    "T1= 95\n",
    "T2= 40\n",
    "\n",
    "# Coeficiente global de transferencia de calor propuesto\n",
    "Up = 1000\n",
    "\n",
    "\n",
    "#Propiedades fisicas del agua\n",
    "Cp = 4.2 # Calor específico\n",
    "Mu = 0.8*10**-3 # Viscocidad\n",
    "k = 0.59 # Coeficiente de trasferencia de calor \n",
    "rho = 1000 # Densidad\n",
    "\n",
    "# Parámetros de diseño del intercambiador\n",
    "do = 20 # Diametro exterior\n",
    "t = 2 # Espesor del tubo \n",
    "di = 16 # Diametro interno\n",
    "L = 4.88 # Longitud de un tubo\n",
    "\n",
    "Np = 2 # numero de pasos totales por la coraza \n"
   ]
  },
  {
   "cell_type": "code",
   "execution_count": 13,
   "metadata": {},
   "outputs": [
    {
     "name": "stdout",
     "output_type": "stream",
     "text": [
      "Cantidad de calor transferido: 6416.666666666667 KW\n"
     ]
    }
   ],
   "source": [
    "# Calculo del flujo de calor\n",
    "\n",
    "def heat_flux(m,cp,T1,T2):\n",
    "    Q = m*cp*abs(T2-T1)*(1/3600)\n",
    "    return Q\n",
    "\n",
    "Q = heat_flux(m,Cp,T1,T2)\n",
    "print(f'Cantidad de calor transferido: {Q} KW')"
   ]
  },
  {
   "cell_type": "code",
   "execution_count": 17,
   "metadata": {},
   "outputs": [
    {
     "name": "stdout",
     "output_type": "stream",
     "text": [
      "Temperatura media logaritmica: 30.78621092446306 ºC\n"
     ]
    }
   ],
   "source": [
    "# Calculo de diferencia de temperatura logaritmica \n",
    "def TempML(T1,T2,t1,t2):\n",
    "    Tml = ((T1-t2)-(T2-t1))/np.log((T1-t2)/(T2-t1))\n",
    "    return Tml\n",
    "\n",
    "Tml = TempML(T1,T2,t1,t2)\n",
    "print(f'Temperatura media logaritmica: {Tml} ºC')"
   ]
  },
  {
   "cell_type": "code",
   "execution_count": 33,
   "metadata": {},
   "outputs": [
    {
     "name": "stdout",
     "output_type": "stream",
     "text": [
      "Factor R = 3.6666666666666665\n",
      "Factor S = 0.21428571428571427\n",
      "Factor Ft = 0.8121833326824699\n",
      "Temperatura real = 25.00404738929587 ºC\n"
     ]
    }
   ],
   "source": [
    "# Calculo cambio de temperatura real \n",
    "\n",
    "# Comenzamos con el calculo de los factores R y S\n",
    "def FactorR(T1,T2,t1,t2):\n",
    "    R = (T1-T2)/(t2-t1)\n",
    "    return R\n",
    "\n",
    "R = FactorR(T1,T2,t1,t2)\n",
    "\n",
    "def FactorS(T1,T2,t1,t2):\n",
    "    S = (t2-t1)/(T1-t1)\n",
    "    return S\n",
    "\n",
    "S = FactorS(T1,T2,t1,t2)\n",
    "\n",
    "# Procedemos con el calculo del factor de corrección \n",
    "def CorrectionFT(R,S,Np):\n",
    "    \"Por facilidad interpretaremos la ecuacion por componentes\"\n",
    "    fact = (((R**2)+1)**(.5))\n",
    "    \n",
    "    top = fact*np.log((1-S)/(1-R*S))\n",
    "    bottom = (R-1) * np.log( (Np-S*(R+1-fact)) / (Np-S*(R+1+fact) ))\n",
    "    \n",
    "    Ft = top/bottom\n",
    "                           \n",
    "    return Ft\n",
    "\n",
    "Ft = CorrectionFT(R,S,Np)\n",
    "\n",
    "# Para la temperatura real\n",
    "Tr = Tml*Ft\n",
    "\n",
    "print(f'Factor R = {R}')\n",
    "print(f'Factor S = {S}')\n",
    "print(f'Factor Ft = {Ft}')\n",
    "print(f'Temperatura real = {Tr} ºC')"
   ]
  },
  {
   "cell_type": "code",
   "execution_count": 40,
   "metadata": {},
   "outputs": [
    {
     "name": "stdout",
     "output_type": "stream",
     "text": [
      "Area total = 256.6251201960854 m^2\n"
     ]
    }
   ],
   "source": [
    "# Area de transferencia de calor\n",
    "def TotalA(Q,Up,Tr):\n",
    "    \"En esta ecuación hay una corrección de magnitud de *10^-3\"\n",
    "    At = (Q*10**3)/(Up*Tr)\n",
    "    return At\n",
    "\n",
    "At = TotalA(Q,Up,Tr)\n",
    "\n",
    "print(f'Area total = {At} m^2') "
   ]
  },
  {
   "cell_type": "code",
   "execution_count": 45,
   "metadata": {},
   "outputs": [
    {
     "name": "stdout",
     "output_type": "stream",
     "text": [
      "Area por un solo tubo = 0.3066194429903638 m^2\n"
     ]
    }
   ],
   "source": [
    "# Para el area de un solo tubo \n",
    "def TubeArea(do,L):\n",
    "    \"En esta ecuación hay una corrección de magnitud de *10^-3\"\n",
    "    TbA = 2*np.pi*(do/2)*10**-3*L\n",
    "    return TbA\n",
    "\n",
    "TbA = TubeArea(do,L)\n",
    "print(f'Area por un solo tubo = {TbA} m^2')"
   ]
  },
  {
   "cell_type": "code",
   "execution_count": 49,
   "metadata": {},
   "outputs": [
    {
     "name": "stdout",
     "output_type": "stream",
     "text": [
      "Numero total de tubos = 836.9499262450568\n"
     ]
    }
   ],
   "source": [
    "# Calculo del numero total de tubos \n",
    "NTb = At/TbA\n",
    "print(f'Numero total de tubos = {NTb}')"
   ]
  },
  {
   "cell_type": "code",
   "execution_count": 54,
   "metadata": {},
   "outputs": [
    {
     "name": "stdout",
     "output_type": "stream",
     "text": [
      "Flujo masico 2 = 101.85185185185186 Kg/s\n"
     ]
    }
   ],
   "source": [
    "#Calculo del flujo másico del segundo servicio \n",
    "def MassFlux(Q,Cp,t2,t1):\n",
    "    m2 = Q/(Cp*(t2-t1))\n",
    "    return  m2\n",
    "\n",
    "m2 = MassFlux(Q,Cp,t2,t1)\n",
    "print(f'Flujo masico 2 = {m2} Kg/s')"
   ]
  },
  {
   "cell_type": "code",
   "execution_count": 56,
   "metadata": {},
   "outputs": [
    {
     "name": "stdout",
     "output_type": "stream",
     "text": [
      "Flujo masico por tubo = 0.2433881613654146 Kg/s\n"
     ]
    }
   ],
   "source": [
    "#Flujo masico por tubo \n",
    "mTube = m2/(NTb/Np)\n",
    "print(f'Flujo masico por tubo = {mTube} Kg/s')"
   ]
  },
  {
   "cell_type": "code",
   "execution_count": 82,
   "metadata": {},
   "outputs": [
    {
     "name": "stdout",
     "output_type": "stream",
     "text": [
      "Velocidad en cada tubo= 1.2105134053548001 m/s\n"
     ]
    }
   ],
   "source": [
    "# velocidad del fluido en cada tubo \n",
    "def u_Tube(mTube,rho,di):\n",
    "    \"En esta ecuación hay una corrección de magnitud de *10^-3\"\n",
    "    A = (np.pi*(di*10**-3)**2)/4\n",
    "    u_tube = mTube / (rho*A )\n",
    "    return u_tube\n",
    "\n",
    "ut = u_Tube(mTube,rho,di)\n",
    "\n",
    "print(f'Velocidad en cada tubo= {ut} m/s')"
   ]
  },
  {
   "cell_type": "code",
   "execution_count": 86,
   "metadata": {},
   "outputs": [
    {
     "name": "stdout",
     "output_type": "stream",
     "text": [
      "Reynolds en los tubos = 24210.268107096002\n"
     ]
    }
   ],
   "source": [
    "# Numeros adimensionales para los tubos \n",
    "def Reynolds(rho,u,di,Mu):\n",
    "    \"En esta ecuación hay una corrección de magnitud de *10^-3\"\n",
    "    Re = rho*u*(di*10**-3)/Mu\n",
    "    return Re\n",
    "\n",
    "Tube_Re = Reynolds(rho,ut,di,Mu)\n",
    "\n",
    "print(f'Reynolds en los tubos = {Tube_Re}')"
   ]
  },
  {
   "cell_type": "code",
   "execution_count": 141,
   "metadata": {},
   "outputs": [
    {
     "name": "stdout",
     "output_type": "stream",
     "text": [
      "Valor de Prandtl = 5.694915254237289\n"
     ]
    }
   ],
   "source": [
    "def Prandtl(Cp,Mu,k):\n",
    "    \"En esta ecuación hay una corrección de magnitud de *10^3\"\n",
    "    Pr = Cp*10**3*Mu/k\n",
    "    return Pr\n",
    "\n",
    "Pr = Prandtl(Cp,Mu,k)\n",
    "\n",
    "print(f'Valor de Prandtl = {Pr}')"
   ]
  },
  {
   "cell_type": "code",
   "execution_count": 144,
   "metadata": {},
   "outputs": [
    {
     "name": "stdout",
     "output_type": "stream",
     "text": [
      "Coeficiente de tranferencia de calor para tubos = 6058.20985442534 W/m^2ºC\n"
     ]
    }
   ],
   "source": [
    "# Para determinar el coeficiente de trasferencia de calor para los tubos \n",
    "\"Se hara uso de un diagrama el cual se espera posteriormente encontrar su polinomio 12.23\"\n",
    "\n",
    "JH = 3.8*10**-3\n",
    "\n",
    "def hT_coefficient(JH,Re,Pr,kf,di):\n",
    "    hT = ( JH * Re * ((Pr)**(1/3)) * kf ) / (di*10**-3)\n",
    "    return hT\n",
    "\n",
    "hT = hT_coefficient(JH,Tube_Re,Pr,k,di)\n",
    "print( f\"Coeficiente de tranferencia de calor para tubos = {hT_coefficient(JH,Tube_Re,Pr,k,di)} W/m^2ºC\")"
   ]
  },
  {
   "cell_type": "code",
   "execution_count": 153,
   "metadata": {},
   "outputs": [
    {
     "name": "stdout",
     "output_type": "stream",
     "text": [
      "Caida de presion en los tubos = 17250.014317888137 Pa\n"
     ]
    }
   ],
   "source": [
    "# Caida de presion para los tubos \n",
    "\"Se hara uso de un diagrama el cual se espera posteriormente encontrar su polinomio 12.24\"\n",
    "\n",
    "JF = 3.8*10**-3\n",
    "\n",
    "def pressure_drop(Np,JF,L,di,rho,u):\n",
    "    DP = Np * (8*JF*(L/(di*(10**-3)))+2.5)*((rho*(u**2))/2) \n",
    "    return DP\n",
    "\n",
    "DP = pressure_drop(Np,JF,L,di,rho,ut)\n",
    "print(f'Caida de presion en los tubos = {DP} Pa')\n",
    "\n",
    "\n"
   ]
  },
  {
   "cell_type": "code",
   "execution_count": 202,
   "metadata": {},
   "outputs": [
    {
     "name": "stdout",
     "output_type": "stream",
     "text": [
      "Pitch = 0.025 m\n",
      "Diametro de banco de tubos=0.792319721724648 m\n",
      "Diametro Coraza = 0.857319721724648 m\n",
      "Separacion de baffles = 0.34292788868985924 m\n",
      "Area de la coraza = 0.058799768420642246 m^2\n",
      "Velocidad másica = 472.4130472599976 Kg/m^2s\n",
      "Velocidad lineal coraza = 0.4724130472599976 m/s\n",
      "Diametro equivalente = 0.014201000000000005\n",
      "Reynolds coraza = 8385.922105174035\n",
      "Prandtl coraza = 5.694915254237289\n"
     ]
    }
   ],
   "source": [
    "# Para determinar el coeficiente de trasferencia de calor para la coraza y la caida de presion\n",
    "# se necesitan calcular unos datos antes\n",
    "\n",
    "# Pitch\n",
    "Pt = 1.25*do*10**-3\n",
    "print(f'Pitch = {Pt} m')\n",
    "\n",
    "# Diametro del banco de tubos\n",
    "\"Se usaran datos obtenidos de tablas\"\n",
    "k1 = .249\n",
    "m1 = 2.207\n",
    "\n",
    "Db = (do*10**-3)*(NTb/k1)**(1/m1)\n",
    "print(f'Diametro de banco de tubos={Db} m')\n",
    "\n",
    "# Diametro interno de la coraza\n",
    "\"De la grafica bundle diameter vs shell inside se obtiene un valor de BD\"\n",
    "BD = 65*10**-3\n",
    "\n",
    "Ds = Db+BD\n",
    "print(f'Diametro Coraza = {Ds} m')\n",
    "\n",
    "# Separacion de los bafles\n",
    "Lb = 0.4*Ds\n",
    "print(f'Separacion de baffles = {Lb} m')\n",
    "\n",
    "# Area de la coraza\n",
    "def As_shell(Pt,do,Ds,Lb):\n",
    "    As = (Pt-(do*10**-3))*Ds*Lb/Pt\n",
    "    return As\n",
    "\n",
    "As = As_shell(Pt,do,Ds,Lb)\n",
    "\n",
    "print(f'Area de la coraza = {As} m^2')\n",
    "\n",
    "# Velocidad masica\n",
    "\"Conversion de horas a segundos en el flujo masico\"\n",
    "Gs = m*(1/3600)/As\n",
    "print(f'Velocidad másica = {Gs} Kg/m^2s')\n",
    "\n",
    "# Velocidad lineal coraza\n",
    "us = Gs/rho\n",
    "print(f\"Velocidad lineal coraza = {us} m/s\")\n",
    "\n",
    "# Diametro equivalente para el arregl triangular\n",
    "de = ( 1.10 / (do*10**-3) ) * ((Pt**2)-(0.917*(do*10**-3)**2))\n",
    "print(f\"Diametro equivalente = {de}\")\n",
    "\n",
    "# Calculo del reynolds para coraza\n",
    "ReS = (Gs*de)/Mu\n",
    "print(f\"Reynolds coraza = {ReS}\")\n",
    "\n",
    "# Calculo del Prandtl Coraza\n",
    "PrS = Cp*10**3*Mu/k\n",
    "print(f\"Prandtl coraza = {PrS}\")"
   ]
  },
  {
   "cell_type": "code",
   "execution_count": 203,
   "metadata": {},
   "outputs": [
    {
     "name": "stdout",
     "output_type": "stream",
     "text": [
      "Coeficiente de transferencia de calor coraza = 4044.1416006372033 W/m^2ºC\n"
     ]
    }
   ],
   "source": [
    "# Para determinar el coeficiente de trasferencia de calor para la coraza\n",
    "\"Usando constantes dadas en tablas JH y JF\"\n",
    "JHs = 6.5*10**-3\n",
    "JFs = 5*10**-2\n",
    "\n",
    "hs = JHs*ReS*(PrS**(1/3))*k/de\n",
    "print(f\"Coeficiente de transferencia de calor coraza = {hs} W/m^2ºC\")"
   ]
  },
  {
   "cell_type": "code",
   "execution_count": 211,
   "metadata": {},
   "outputs": [
    {
     "name": "stdout",
     "output_type": "stream",
     "text": [
      "Caida de presion en la coraza = 38345.52304910943 Pa\n"
     ]
    }
   ],
   "source": [
    "# Caida de presion para la coraza\n",
    "DPs = 8 * JFs * (Ds/de) * (L/Lb) * ((rho*(us**2)) / 2)\n",
    "print(f\"Caida de presion en la coraza = {DPs} Pa\")"
   ]
  },
  {
   "cell_type": "code",
   "execution_count": 231,
   "metadata": {},
   "outputs": [
    {
     "name": "stdout",
     "output_type": "stream",
     "text": [
      "Coeficiente global de transferencia de calor: 1054.5947336010315 W/m^2ºC\n"
     ]
    }
   ],
   "source": [
    "# Calculo del coeficiente global de transderencia de calor \n",
    "\"Se obtienen los valores del factor de ensuciamiento y conductividad termica\"\n",
    "had = 5000\n",
    "hid = 5000\n",
    "K = 50\n",
    "Denominador = (1/hs) + (1/had) + ((do/1000)*np.log(do/di)/(2 * K)) + (((do)/(di))*(1/hid)) + ((do/di)*(1/hT))\n",
    "\n",
    "U_Global = 1/Denominador\n",
    "\n",
    "print(f\"Coeficiente global de transferencia de calor: {U_Global} W/m^2ºC\")"
   ]
  },
  {
   "cell_type": "code",
   "execution_count": null,
   "metadata": {},
   "outputs": [],
   "source": []
  }
 ],
 "metadata": {
  "kernelspec": {
   "display_name": "Python 3",
   "language": "python",
   "name": "python3"
  },
  "language_info": {
   "codemirror_mode": {
    "name": "ipython",
    "version": 3
   },
   "file_extension": ".py",
   "mimetype": "text/x-python",
   "name": "python",
   "nbconvert_exporter": "python",
   "pygments_lexer": "ipython3",
   "version": "3.7.3"
  }
 },
 "nbformat": 4,
 "nbformat_minor": 2
}
