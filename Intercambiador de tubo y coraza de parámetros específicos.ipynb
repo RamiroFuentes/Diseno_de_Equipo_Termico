{
 "cells": [
  {
   "cell_type": "code",
   "execution_count": 172,
   "metadata": {},
   "outputs": [],
   "source": [
    "%run ICTyC.py"
   ]
  },
  {
   "cell_type": "code",
   "execution_count": 179,
   "metadata": {},
   "outputs": [
    {
     "name": "stdout",
     "output_type": "stream",
     "text": [
      "Cantidad de calor transferido: 6416.666666666667 KW\n",
      "Temperatura media logaritmica: 30.78621092446306 ºC\n",
      "Factor R = 3.6666666666666665\n",
      "Factor S = 0.21428571428571427\n",
      "Factor Ft = 0.8121833326824699\n",
      "Temperatura real = 25.00404738929587 ºC\n",
      "Area total = 256.6251201960854 m^2\n",
      "Area por un solo tubo = 0.3392920065876977 m^2\n",
      "Numero total de tubos = 756.3547481621994\n",
      "Flujo masico 2 = 101.85185185185186 Kg/s\n",
      "Flujo masico por tubo = 0.26932296544533585 Kg/s\n",
      "Velocidad en cada tubo= 1.8539827525429464 m/s\n",
      "Reynolds en los tubos = 31517.70679323009\n",
      "Valor de Prandtl = 5.694915254237289\n",
      "Coeficiente de tranferencia de calor para tubos = 8790.211073412876 W/m^2ºC\n",
      "Caida de presion en los tubos = 48990.95123069909 Pa\n",
      "Pitch = 0.025 m\n",
      "Diametro de banco de tubos=0.7567905658880844 m\n",
      "Diametro Coraza = 0.8217905658880844 m\n",
      "Separacion de baffles = 0.3287162263552338 m\n",
      "Area de la coraza = 0.054027178734612644 m^2\n",
      "Velocidad másica = 514.1445181549315 Kg/m^2s\n",
      "Velocidad lineal coraza = 0.5141445181549315 m/s\n",
      "Diametro equivalente = 0.014201000000000005\n",
      "Reynolds coraza = 9126.70787789773\n",
      "Prandtl coraza = 5.694915254237289\n",
      "Coeficiente de transferencia de calor coraza = 4062.8199216174703 W/m^2ºC\n",
      "Caida de presion en la coraza = 49253.98023815481 Pa\n",
      "Coeficiente global de transferencia de calor: 1015.5552549362949 W/m^2ºC\n",
      "\n",
      "Caida de presion en los tubos = 48.99095123069909 KPa\n",
      "Reynolds en los tubos = 31517.70679323009\n",
      "Caida de presion en la coraza = 49.25398023815481 KPa\n",
      "Reynolds coraza = 9126.70787789773\n",
      "Coeficiente global de transferencia de calor: 1015.5552549362949 W/m^2ºC\n"
     ]
    }
   ],
   "source": [
    "## Datos del sistema (Parámetros de inicializacion)\n",
    "\"\"\"Para los servicios se utiizará agua y agua de mar \"\"\"\n",
    "\n",
    "# Usualmente estos parámetros no cambian\n",
    "Services_Data = {\n",
    "    'm' : 100000, # Flujo Másico\n",
    "    't1':25, \n",
    "    't2': 40,\n",
    "    'T1':95,\n",
    "    'T2': 40,\n",
    "    'Up': 1000 # Valor propuesto \n",
    "}\n",
    "\n",
    "# Parametros que dependen de las condiciones de los servicios\n",
    "Physical_properties = {\n",
    "    'Cp' : 4.2,\n",
    "    'Mu' : 0.8*10**-3,\n",
    "    'k' : 0.59,\n",
    "    'rho' : 1000,\n",
    "    # Para agua de mar\n",
    "    'had' : 5000,\n",
    "    'hid' : 5000\n",
    "}\n",
    "\n",
    "# Parametros a cambiar más comunes\n",
    "Exchanger_Data = {\n",
    "    'do': 20, # 20\n",
    "    't': 3.2, # t - Espesor del tubo\n",
    "    'di': Exchanger_Data['do']-Exchanger_Data['t']*2, # 16\n",
    "    'L': 5.4, #4.88\n",
    "    'Np': 2, # 2 se mantienen los datos de k1 y m1\n",
    "    'K' : 50 # Material Acero-Carbon\n",
    "}\n",
    "\n",
    "Reynolds_Factors = {\n",
    "    # Factores que cambian dependiendo del reynolds \n",
    "    # Tubos Re = 31517.70679323009\n",
    "    'JH' : 3.6*10**-3,\n",
    "    'JF' : 3.7*10**-3,\n",
    "    \n",
    "    # Coraza Re = 9126.70787789773 Baffle cut = 25\n",
    "    'JHs' : 6*10**-3,\n",
    "    'JFs' : 4.9*10**-2\n",
    "}\n",
    "\n",
    "Solve_ICTyC(Services_Data,Physical_properties,Exchanger_Data,Reynolds_Factors)"
   ]
  },
  {
   "cell_type": "code",
   "execution_count": null,
   "metadata": {},
   "outputs": [],
   "source": []
  }
 ],
 "metadata": {
  "kernelspec": {
   "display_name": "Python 3",
   "language": "python",
   "name": "python3"
  },
  "language_info": {
   "codemirror_mode": {
    "name": "ipython",
    "version": 3
   },
   "file_extension": ".py",
   "mimetype": "text/x-python",
   "name": "python",
   "nbconvert_exporter": "python",
   "pygments_lexer": "ipython3",
   "version": "3.7.3"
  }
 },
 "nbformat": 4,
 "nbformat_minor": 2
}
