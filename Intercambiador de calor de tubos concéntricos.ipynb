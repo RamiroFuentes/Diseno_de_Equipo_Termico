{
 "cells": [
  {
   "cell_type": "markdown",
   "metadata": {},
   "source": [
    "# Diseño de Intercambiador de calor tubos concéntricos\n"
   ]
  },
  {
   "cell_type": "markdown",
   "metadata": {},
   "source": [
    "### Problema\n",
    "Un intercambiador de calor de tubos concentricos en contrarreflujo se usa para enfriar el aceite lubricante del motor de una turbina de gas industrial. El flujo del $H_2O$ de enfriamiento atravez del flujo interno ($D_i=25mm$) $\\dot{m}= 0.2 \\frac{kg}{s}$ mientras que el flujo de aceite atravez del anillo externo ($D_0=45mm$) $\\dot{m}= 0.1 \\frac{kg}{s}$. El aceite y el agua entran a temperaturas de 100ºC y 30ºC respectivamente. Que longitud debe tener el tubo si la temperatura de salida del aceite debe de ser de 60ªc.\n",
    "\n"
   ]
  },
  {
   "cell_type": "code",
   "execution_count": 1,
   "metadata": {},
   "outputs": [],
   "source": [
    "import pandas as pd\n",
    "import matplotlib.pyplot as plt\n",
    "\n",
    "import numpy as np\n",
    "from numpy import poly1d,polyfit  \n",
    "import matplotlib.pyplot as plt"
   ]
  },
  {
   "cell_type": "markdown",
   "metadata": {},
   "source": [
    "### Datos del problema\n",
    "**Agua**  \n",
    "$D_i = 25mm$  \n",
    "$\\dot{m}= 0.2 \\frac{kg}{s}$  \n",
    "$T_{0,Agua}=30ºC$  \n",
    "$T_{1,Agua}=70ºC$\n",
    "\n",
    "**Aceite**  \n",
    "$D_0=45mm$  \n",
    "$\\dot{m}= 0.1 \\frac{kg}{s}$  \n",
    "$T_{0,Aceite}= 100ºC$  \n",
    "$T_{1,Aceite}= 60ºC$"
   ]
  },
  {
   "cell_type": "code",
   "execution_count": 2,
   "metadata": {},
   "outputs": [],
   "source": [
    "# Variables del problema\n",
    "# AGUA\n",
    "D_S1 = 25*10**-3\n",
    "m_S1 = 0.2\n",
    "T_0_S1 = 30\n",
    "T_1_S1 = 70\n",
    "\n",
    "# Aceite\n",
    "D_S2 = 45*10**-3\n",
    "m_S2 = 0.1\n",
    "T_0_S2 = 100\n",
    "T_1_S2 = 60"
   ]
  },
  {
   "cell_type": "markdown",
   "metadata": {},
   "source": [
    "### Balance de Energía\n",
    "$\\dot{m}_{entrada}(h)_{entrada}-Q_{salida}-\\dot{m}_{salida}(h)_{salida}=0$\n",
    "\n",
    "### Balance de Materia\n",
    "$\\dot{Q}=\\dot{m}_{ac}Cp(T_1-T_2)$"
   ]
  },
  {
   "cell_type": "code",
   "execution_count": 3,
   "metadata": {},
   "outputs": [],
   "source": [
    "def interp(x_1,x_2,y_1,y_2,y_n):\n",
    "    x_n = x_1 -((x_1-x_2)*(y_1-y_n)/(y_1-y_2))\n",
    "    return x_n , y_n\n",
    "\n",
    "def Cp(Fluid,T_Prom):\n",
    "    T = T_Prom\n",
    "    if Fluid=='water':\n",
    "        Cp_species = (-3.567e-11*T**5) + (1.239e-08*T**4) - (1.622e-06*T**3) + (0.0001072*T**2) - (0.00334*T) + 4.217\n",
    "    \n",
    "    elif Fluid==\"unused oil\":\n",
    "        Cp_species = (1.155e-06*T**2) + (0.004108*T) + 1.797\n",
    "        \n",
    "    return Cp_species\n",
    "    \n",
    "def Q_Flux(m,Fluid,t1,t2):\n",
    "    T_Prom = (t1+t2)/2\n",
    "    T_Dif = t1-t2\n",
    "    \n",
    "    Cp_s = Cp(Fluid,T_Prom)\n",
    "    Q = m*Cp_s*abs(T_Dif)\n",
    "    \n",
    "    T_E = t1\n",
    "    \n",
    "    return Q,Cp_s,T_E"
   ]
  },
  {
   "cell_type": "markdown",
   "metadata": {},
   "source": [
    "### Cálculo con el balance de materia para el aceite \n",
    "$\\dot{Q}=(0.1\\frac{kg}{s})Cp_{aceite}(100ºC-60ºC)$  \n",
    "\n",
    "Para el Cp se calcula la T Promedio:  \n",
    "$T_{Promedio}=\\frac{(100+60)}{2}$  \n",
    "$T_{Promedio}=80ºC$\n",
    "\n",
    "De la tabla \"Propiedades Termmicas de Acites y Glicerinas-Aceite sin usar\"  \n",
    "Para aceite a 80ºC:  \n",
    "$Cp_{Aceite,80ºc}=2131 \\frac{J}{KgºC}$\n",
    "\n",
    "$\\dot{Q}=(0.1\\frac{kg}{s})(2.131 \\frac{KJ}{KgºC})(40ºC)$ \n",
    "\n",
    "$\\dot{Q}_{aceite}=8.524 KW$  "
   ]
  },
  {
   "cell_type": "code",
   "execution_count": 4,
   "metadata": {},
   "outputs": [
    {
     "name": "stdout",
     "output_type": "stream",
     "text": [
      "Cp Oil = 2.133032\n",
      "Q Oil = 8.532128\n",
      "T Example = 100\n"
     ]
    }
   ],
   "source": [
    "[Q_Oil,Cp_Oil,T_E] = Q_Flux(m_S2,'unused oil',100,60)\n",
    "\n",
    "print(f\"Cp Oil = {Cp_Oil}\")\n",
    "print(f\"Q Oil = {Q_Oil}\")\n",
    "print(f\"T Example = {T_E}\")"
   ]
  },
  {
   "cell_type": "markdown",
   "metadata": {},
   "source": [
    "Para que se pueda llevar a cabo la remoción de calor necesaria los valores de $\\dot{Q}_{Aceite}$ y $\\dot{Q}_{Agua}$ deben de ser iguales"
   ]
  },
  {
   "cell_type": "markdown",
   "metadata": {},
   "source": [
    "### Cálculo con el balance de materia para el agua\n",
    "\n",
    "**Primera iteración:**\n",
    "$T_2=70ºC$ \n",
    "\n",
    "\n",
    "$\\dot{Q}=(0.2\\frac{kg}{s})Cp_{agua}(70ºC-30ºC)$  \n",
    "\n",
    "Para el Cp se calcula la T Promedio:  \n",
    "$T_{Promedio}=\\frac{(70+30)}{2}$  \n",
    "$T_{Promedio}=50ºC$\n",
    "\n",
    "De la tabla \"Calor específico del Agua 0ºC-100ºC\"  \n",
    "Para agua a 50ºC:  \n",
    "$Cp_{Agua,50ºc}=4.181 \\frac{KJ}{KgºC}$\n",
    "\n",
    "$\\dot{Q}=(0.2\\frac{kg}{s})(4.181\\frac{KJ}{KgºC})(50ºC)$ \n",
    "\n",
    "$\\dot{Q}_{agua}=33.448 KW$ "
   ]
  },
  {
   "cell_type": "code",
   "execution_count": 5,
   "metadata": {},
   "outputs": [
    {
     "name": "stdout",
     "output_type": "stream",
     "text": [
      "Cp water = 4.181540624999999\n",
      "Q water = 33.452325\n",
      "T Example = 70\n"
     ]
    }
   ],
   "source": [
    "[Q_water,Cp_water,T_E_Water_1] = Q_Flux(m_S1,'water',70,30)\n",
    "\n",
    "print(f\"Cp water = {Cp_water}\")\n",
    "print(f\"Q water = {Q_water}\")\n",
    "print(f\"T Example = {T_E_Water_1}\")"
   ]
  },
  {
   "cell_type": "markdown",
   "metadata": {},
   "source": [
    "**Segunda Iteración**\n",
    "$T_2=40ºC$ \n",
    "\n",
    "\n",
    "$\\dot{Q}=(0.2\\frac{kg}{s})Cp_{agua}(40ºC-30ºC)$  \n",
    "\n",
    "Para el Cp se calcula la T Promedio:  \n",
    "$T_{Promedio}=\\frac{(40+30)}{2}$  \n",
    "$T_{Promedio}=35ºC$\n",
    "\n",
    "De la tabla \"Calor específico del Agua 0ºC-100ºC\"  \n",
    "Para agua a 35ºC:  \n",
    "$Cp_{Agua,32ºc}=4.178 \\frac{KJ}{KgºC}$\n",
    "\n",
    "$\\dot{Q}=(0.2\\frac{kg}{s})(4.178\\frac{KJ}{KgºC})(10ºC)$ \n",
    "\n",
    "$\\dot{Q}_{agua}=8.356 KW$ "
   ]
  },
  {
   "cell_type": "code",
   "execution_count": 6,
   "metadata": {},
   "outputs": [
    {
     "name": "stdout",
     "output_type": "stream",
     "text": [
      "Cp water = 4.17859603846875\n",
      "Q water = 8.3571920769375\n",
      "T Example = 40\n"
     ]
    }
   ],
   "source": [
    "[Q_water_p,Cp_water_p,T_E_Water_2] = Q_Flux(m_S1,'water',40,30)\n",
    "\n",
    "print(f\"Cp water = {Cp_water_p}\")\n",
    "print(f\"Q water = {Q_water_p}\")\n",
    "print(f\"T Example = {T_E_Water_2}\")"
   ]
  },
  {
   "cell_type": "markdown",
   "metadata": {},
   "source": [
    "\n",
    "**Interpolación**\n",
    "\n",
    "|   Q    | t  |\n",
    "|--------|----|\n",
    "| 33.448 | 70 |\n",
    "| 8.52   |  y |\n",
    "| 8.356  | 40 |\n",
    "\n",
    "$Y_x = Y_a + (Y_b-Y_a)(\\frac{X-X_a}{X_b-X_a})$  \n",
    "$Y_x = 40 + (70-40)(\\frac{8.52-8.356}{33.448-8.356})$  \n",
    "$Y_x = 40.1960$"
   ]
  },
  {
   "cell_type": "code",
   "execution_count": 7,
   "metadata": {},
   "outputs": [
    {
     "name": "stdout",
     "output_type": "stream",
     "text": [
      "Q water = 8.532128\n",
      "T Example = 40.209127311975784\n"
     ]
    }
   ],
   "source": [
    "[T_Water_R,Q_Water_R] =  interp(T_E_Water_1,T_E_Water_2,Q_water,Q_water_p,Q_Oil)\n",
    "\n",
    "print(f\"Q water = {Q_Water_R}\")\n",
    "print(f\"T Example = {T_Water_R}\")"
   ]
  },
  {
   "cell_type": "markdown",
   "metadata": {},
   "source": [
    "### Cálculo del polinomio de densidad para los fluidos"
   ]
  },
  {
   "cell_type": "code",
   "execution_count": 19,
   "metadata": {},
   "outputs": [],
   "source": [
    "def density(Fluid,T):\n",
    "    x = T\n",
    "    \n",
    "    if Fluid=='water':\n",
    "        Density_species = (1.651e-05*x**3) - (0.006082*x**2) + (0.02481*x) + 1000\n",
    "    \n",
    "    elif Fluid==\"unused oil\":\n",
    "        Density_species = (7.278e-05*x**2) - (0.5991*x) + 899.6\n",
    "        \n",
    "    return Density_species\n",
    "\n",
    "\n",
    "def viscocity(Fluid,T):\n",
    "    x = T\n",
    "    \n",
    "    if Fluid=='water':\n",
    "        Viscocity_species = 3.213e-11*x**4 - 8.967e-09*x**3 + 9.773e-07*x**2 - 5.509e-05*x + 0.00178\n",
    "    \n",
    "    elif Fluid==\"unused oil\":\n",
    "        Viscocity_species = 8.698e-12*x**6 - 4.972e-09*x**5 + 1.135e-06*x**4 - 0.0001324*x**3 + 0.008346*x**2 - 0.2743*x + 3.847\n",
    "        \n",
    "    return Viscocity_species"
   ]
  },
  {
   "cell_type": "markdown",
   "metadata": {},
   "source": [
    "### Cálculo del Propiedades\n",
    "Area  \n",
    "$A = \\frac{\\pi D^2}{4}$\n",
    "\n",
    "Velocidad  \n",
    "$u=\\frac{\\dot{m}_{fluido}}{\\rho A}$ \n",
    "\n",
    "Reynods  \n",
    "$Re = \\frac{\\rho u D}{\\mu}$\n"
   ]
  },
  {
   "cell_type": "code",
   "execution_count": 9,
   "metadata": {},
   "outputs": [],
   "source": [
    "def circle_area_by_diameter(diameter):\n",
    "    A = np.pi*diameter**2/4\n",
    "    return A\n",
    "\n",
    "def velocity(mass_flux,density,area):\n",
    "    u = mass_flux/(density*area)\n",
    "    return u\n",
    "\n",
    "def Re(density,velocity,diameter,viscocity):\n",
    "    Re = density*velocity*diameter/viscocity\n",
    "    return Re"
   ]
  },
  {
   "cell_type": "markdown",
   "metadata": {},
   "source": [
    "**Para el agua:**   \n",
    "$\\rho_{Agua,30ºc}= 995.71\\frac{Kg}{m^3}$  \n",
    "$\\mu_{Agua,30ºc}= 0.00079\\frac{Kg}{m *s}$\n",
    "\n",
    "$A_{Agua} = \\frac{\\pi (25*10^{-3})^2}{4}$  \n",
    "$A_{Agua} = 4.9087*10^{-4} m^2$\n",
    "\n",
    "$u = \\frac{0.2\\frac{Kg}{s}}{995.71\\frac{Kg}{m^3}4.9087*10^{-4} m^2}$  \n",
    "$u = .4091 \\frac{m}{s}$\n",
    "\n",
    "$Re = \\frac{\\rho_{Agua,30ºc} u D}{\\mu_{Agua,30ºc}}$  \n",
    "$Re = \\frac{995.71\\frac{Kg}{m^3} .4091 \\frac{m}{s} 25*10^{-3}m }{0.00079\\frac{Kg}{m *s}}$  \n",
    "$Re = 12890.66$  "
   ]
  },
  {
   "cell_type": "code",
   "execution_count": 18,
   "metadata": {},
   "outputs": [
    {
     "name": "stdout",
     "output_type": "stream",
     "text": [
      "Diametro Hidráulico = 0.025\n",
      "Densidad = 995.71627\n",
      "Viscocidad = 0.0007907862999999998\n",
      "Area = 0.0004908738521234052\n",
      "Velocity = 0.4091920883743781\n",
      "Reynolds = 12880.82570315287\n"
     ]
    }
   ],
   "source": [
    "D = 25*10**-3\n",
    "A = circle_area_by_diameter(D)\n",
    "u = velocity(0.2,995.71,circle_area_by_diameter(25*10**-3))\n",
    "\n",
    "print(f\"Diametro Hidráulico = {D}\")\n",
    "Density_Water = density('water',30)\n",
    "print(f\"Densidad = {Density_Water}\")\n",
    "Viscocity_Water = viscocity('water',30)\n",
    "print(f\"Viscocidad = {Viscocity_Water}\")\n",
    "    \n",
    "def Re(density,velocity,diameter,viscocity):\n",
    "    Re = density*velocity*diameter/viscocity\n",
    "    return Re\n",
    "\n",
    "Re = Re(Density_Water,u,D,Viscocity_Water)\n",
    "\n",
    "\n",
    "\n",
    "print(f\"Area = {A}\")\n",
    "print(f\"Velocity = {u}\")\n",
    "print(f\"Reynolds = {Re}\")"
   ]
  },
  {
   "cell_type": "markdown",
   "metadata": {},
   "source": [
    "**Para el aceite:** \n",
    "\n",
    "$\\rho_{Aceite,70ºc}= 995.71\\frac{Kg}{m^3}$  \n",
    "$\\mu_{Aceite,70ºc}= 0.00079\\frac{Kg}{m *s}$\n",
    "\n",
    "$A_{Aceite} = \\frac{\\pi (45*10^{-3}-25*10^{-3})^2}{4}$  \n",
    "$A_{Aceite} = 3.141*10^{-4} m^2$\n",
    "\n",
    "$u = \\frac{0.2\\frac{Kg}{s}}{995.71\\frac{Kg}{m^3}4.9087*10^{-4} m^2}$  \n",
    "$u = .4091 \\frac{m}{s}$\n",
    "\n",
    "$Re = \\frac{\\rho_{Agua,30ºc} u D}{\\mu_{Agua,30ºc}}$  \n",
    "$Re = \\frac{995.71\\frac{Kg}{m^3} .4091 \\frac{m}{s} 25*10^{-3}m }{0.00079\\frac{Kg}{m *s}}$  \n",
    "$Re = 12890.66$ "
   ]
  },
  {
   "cell_type": "code",
   "execution_count": 87,
   "metadata": {},
   "outputs": [
    {
     "name": "stdout",
     "output_type": "stream",
     "text": [
      "ACEITE\n",
      "Diametro Hidráulico = 0.019999999999999997\n",
      "Densidad = 858.019622\n",
      "Viscocidad = 0.046420601999996425\n",
      "Prandtl = 489.9997175706667\n",
      "Area = 0.0003141592653589792\n",
      "Velocity = 0.01165474511723929\n",
      "Reynolds = 293.79104457433755\n"
     ]
    }
   ],
   "source": [
    "def circle_area_by_diameter(diameter):\n",
    "    A = np.pi*diameter**2/4\n",
    "    return A\n",
    "\n",
    "def velocity(mass_flux,density,area):\n",
    "    u = mass_flux/(density*area)\n",
    "    return u\n",
    "\n",
    "def Re(density,velocity,diameter,viscocity):\n",
    "    Re = density*velocity*diameter/viscocity\n",
    "    return Re\n",
    "\n",
    "def density(Fluid,T):\n",
    "    x = T\n",
    "    \n",
    "    if Fluid=='water':\n",
    "        Density_species = (1.651e-05*x**3) - (0.006082*x**2) + (0.02481*x) + 1000\n",
    "    \n",
    "    elif Fluid==\"unused oil\":\n",
    "        Density_species = (7.278e-05*x**2) - (0.5991*x) + 899.6\n",
    "        \n",
    "    return Density_species\n",
    "\n",
    "def Prandtl(Fluid,T):\n",
    "    x = T\n",
    "    if Fluid=='water':\n",
    "        Pr_species = 2.933e-07*x**4 - 8.082e-05*x**3 + 0.008602*x**2 - 0.4609*x + 13.38\n",
    "    \n",
    "    elif Fluid==\"unused oil\":\n",
    "        c = [ 8.09926835e-12, -6.12955729e-09,  1.98650174e-06, -3.61026042e-04, 4.04651476e-02, -2.89442552e+00,  1.31465582e+02, -3.57847333e+03,4.71000000e+04]\n",
    "        Pr_species = (c[0]*x**8) + (c[1]*x**7) + (c[2]*x**6) + (c[3]*x**5) + (c[4]*x**4) + (c[5]*x**3) + (c[6]*x**2) + (c[7]*x) + c[8]\n",
    "    \n",
    "    return Pr_species\n",
    "\n",
    "print(\"ACEITE\")\n",
    "D_o = 45*10**-3\n",
    "D_i = 25*10**-3\n",
    "D = D_o-D_i\n",
    "\n",
    "print(f\"Diametro Hidráulico = {D}\")\n",
    "\n",
    "Density_Oil = density('unused oil',70)\n",
    "print(f\"Densidad = {Density_Oil}\")\n",
    "\n",
    "Viscocity_Oil = viscocity('unused oil',70)\n",
    "print(f\"Viscocidad = {Viscocity_Oil}\")\n",
    "\n",
    "Pr_Oil = Prandtl('unused oil',80)\n",
    "print(f\"Prandtl = {Pr_Oil}\")\n",
    "      \n",
    "A = circle_area_by_diameter(D)\n",
    "u = velocity(m_S1,Density_Oil,D)\n",
    "Re = Re(995.71,u,D,0.00079)\n",
    "\n",
    "print(f\"Area = {A}\")\n",
    "print(f\"Velocity = {u}\")\n",
    "print(f\"Reynolds = {Re}\")"
   ]
  }
 ],
 "metadata": {
  "kernelspec": {
   "display_name": "Python 3",
   "language": "python",
   "name": "python3"
  },
  "language_info": {
   "codemirror_mode": {
    "name": "ipython",
    "version": 3
   },
   "file_extension": ".py",
   "mimetype": "text/x-python",
   "name": "python",
   "nbconvert_exporter": "python",
   "pygments_lexer": "ipython3",
   "version": "3.7.3"
  }
 },
 "nbformat": 4,
 "nbformat_minor": 2
}
