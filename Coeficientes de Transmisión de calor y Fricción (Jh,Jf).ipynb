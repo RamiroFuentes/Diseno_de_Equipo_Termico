{
 "cells": [
  {
   "cell_type": "code",
   "execution_count": 1,
   "metadata": {},
   "outputs": [],
   "source": [
    "# En el siguiente programa se graficarán los valores de los coeficientes Jh y Jf en funcion del reynolds"
   ]
  },
  {
   "cell_type": "code",
   "execution_count": 2,
   "metadata": {},
   "outputs": [],
   "source": [
    "import matplotlib.pyplot as plt\n",
    "import numpy as np"
   ]
  },
  {
   "cell_type": "code",
   "execution_count": 58,
   "metadata": {},
   "outputs": [
    {
     "name": "stdout",
     "output_type": "stream",
     "text": [
      "0.008906453953953956\n"
     ]
    },
    {
     "data": {
      "image/png": "[encoded data removed]",
      "text/plain": [
       "<Figure size 432x288 with 1 Axes>"
      ]
     },
     "metadata": {
      "needs_background": "light"
     },
     "output_type": "display_data"
    }
   ],
   "source": [
    "# Factor de fricción \n",
    "\n",
    "Re = [1*10**1,8.5*10**2,1*10**3,1*10**6]\n",
    "Jf = [8*10**-1,9.2*10**-3,9*10**-3,1.75*10**-3]\n",
    "\n",
    "# Para el calculo del valor en función del reynolds\n",
    "Rev = 13890\n",
    "\n",
    "for i in np.arange(0,len(Re)):\n",
    "    if Re[i] >= Rev:\n",
    "        pos = i\n",
    "        break\n",
    "\n",
    "def interp(x_1,x_2,y_1,y_2,x_n):\n",
    "    m = (y_2-y_1)/(x_2-x_1)\n",
    "    x = (x_n-x_1)\n",
    "    b = y_1\n",
    "    \n",
    "    y_n =  (m*x)+b\n",
    "    return y_n\n",
    "\n",
    "def interp_log(x_1,x_2,y_1,y_2,x_n):\n",
    "    m = np.log(y_2/y_1)/np.log(x_2/x_1)\n",
    "    x = (x_n-x_1)\n",
    "    b = y_1\n",
    "    print(m)\n",
    "    \n",
    "    y_n =  (m*x)+b\n",
    "    return y_n\n",
    "\n",
    "Jfv = interp(Re[pos-1],Re[pos],Jf[pos-1],Jf[pos],Rev)\n",
    "print(Jfv)\n",
    "\n",
    "plt.plot(Re,Jh,marker=\".\")\n",
    "plt.grid()\n",
    "plt.yscale('log')\n",
    "plt.xscale('log')\n",
    "\n",
    "plt.axvline(Rev,ls=\"dotted\",color=\"red\")\n",
    "plt.axhline(Jfv,ls=\"dotted\",color=\"red\")\n",
    "\n",
    "plt.plot(Re[pos],Jf[pos],marker=\"o\")\n",
    "plt.plot(Re[pos-1],Jf[pos-1],marker=\"x\")\n",
    "\n",
    "\n",
    "plt.show()\n",
    "    "
   ]
  },
  {
   "cell_type": "code",
   "execution_count": null,
   "metadata": {},
   "outputs": [],
   "source": []
  }
 ],
 "metadata": {
  "kernelspec": {
   "display_name": "Python 3",
   "language": "python",
   "name": "python3"
  },
  "language_info": {
   "codemirror_mode": {
    "name": "ipython",
    "version": 3
   },
   "file_extension": ".py",
   "mimetype": "text/x-python",
   "name": "python",
   "nbconvert_exporter": "python",
   "pygments_lexer": "ipython3",
   "version": "3.7.3"
  }
 },
 "nbformat": 4,
 "nbformat_minor": 2
}
